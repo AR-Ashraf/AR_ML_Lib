{
 "cells": [
  {
   "cell_type": "markdown",
   "id": "69c46e1e",
   "metadata": {},
   "source": [
    "# ***We will make our own Linear Regression Library here***"
   ]
  },
  {
   "cell_type": "markdown",
   "id": "cd6347d6",
   "metadata": {},
   "source": [
    "## Linear Regression"
   ]
  },
  {
   "cell_type": "markdown",
   "id": "db5fed50",
   "metadata": {},
   "source": [
    "We will at first create a function that will import all the necessary libraries we need"
   ]
  },
  {
   "cell_type": "code",
   "execution_count": 1,
   "id": "52016791",
   "metadata": {},
   "outputs": [],
   "source": [
    "import numpy as np\n",
    "import matplotlib.pyplot as plt\n",
    "import matplotlib \n",
    "import pandas as pd\n",
    "%matplotlib inline\n",
    "    \n",
    "    "
   ]
  },
  {
   "cell_type": "markdown",
   "id": "6c367b19",
   "metadata": {},
   "source": [
    "We will now make our own Linear Regression model with customized required modules :)"
   ]
  },
  {
   "cell_type": "code",
   "execution_count": 2,
   "id": "a4325c4f",
   "metadata": {},
   "outputs": [],
   "source": [
    "class linearRegression:\n",
    "    def __init__(self, data = [], labels= []):\n",
    "        self.data = data\n",
    "        self.labels = labels\n",
    "    \n",
    "    def computeCost(self, data, labels, theta): #We need this function to compute the cost of our predicted data comparing with the real label data.\n",
    "        data = np.array(data)\n",
    "        labels = np.array(labels)\n",
    "        theta = np.array(theta)\n",
    "        \n",
    "        training_samples = len(labels)\n",
    "        cost = 0\n",
    "        predicted_value = np.dot(data, theta)\n",
    "        cost = (1/(2*training_samples)) * (np.sum(np.square(predicted_value - labels)))\n",
    "        return cost\n",
    "    \n",
    "    def gradientDescent(self, data, labels, theta, learning_rate = 0.01, num_iters = 300): #This function will help us to find out the perfect value of theta for which the cost will be minimum.\n",
    "        data = np.array(data)\n",
    "        labels = np.array(labels)\n",
    "        #theta = np.array(theta).reshape(1,1)\n",
    "        \n",
    "        training_samples = len(labels)\n",
    "        cost_history = [float(\"inf\")]\n",
    "        theta_history = []\n",
    "        \n",
    "        for iter in range(num_iters):\n",
    "            error = np.dot(data, theta) - labels\n",
    "            theta = theta - ( (learning_rate/training_samples) * (np.dot(data.T, error)))\n",
    "            theta_history.append(theta)\n",
    "            cost = self.computeCost(data, labels, theta)\n",
    "            if cost_history[-1] <= cost:\n",
    "                print(\"The required number of iterations: {}\".format(iter))\n",
    "                break\n",
    "            else:\n",
    "                cost_history.append(cost)\n",
    "            \n",
    "        return theta, theta_history, cost_history\n",
    "    \n",
    "    def featureScaling(self, data): #if our data values are too scattered then we will use this function to scale them. We wll convert those values to zero mean and one standard deviation values.\n",
    "        data = np.array(data)\n",
    "        \n",
    "        zero_mean_array = np.array([(float(data[i,0]) - float(np.mean(data, axis = 0, dtype=np.float64))) for i in range(np.size(data,0))]).reshape(np.size(data,0), 1)\n",
    "        X_scaled = np.array([(float(zero_mean_array[i,0]) / float(np.std(data, axis=0, dtype = np.float64))) for i in range(np.size(data,0))]).reshape(np.size(data,0), 1)\n",
    "        return X_scaled\n",
    "    \n",
    "    def Normalization(self, data, labels): #This is an alternative function of gradient descent. When the number of training examples are few, we can use this to find out the value of theta. Advantage of this function is that, we do not need to iterate over the whole batch! That saves a lot of time.\n",
    "        data = np.array(data)\n",
    "        labels = np.array(labels)\n",
    "        \n",
    "        theta = np.zeros(1).reshape(1,1)\n",
    "        \n",
    "        theta = np.dot((np.dot((np.linalg.pinv(np.dot(np.transpose(data),data))),np.transpose(data))),labels)\n",
    "        return theta\n",
    "    \n",
    "    def plot_scatter_chart(self,x_axis,y_axis, x_label, y_label): #We will use this function to plot graph to visualize our data.\n",
    "        matplotlib.rcParams['figure.figsize'] = (15,10)\n",
    "        plt.scatter(x_axis,y_axis,color='blue',label='Coordinate', s=50)\n",
    "        plt.xlabel(x_label)\n",
    "        plt.ylabel(y_label)\n",
    "        plt.title(\"Data Visualization\")\n",
    "        plt.legend()\n",
    "    \n",
    "    def simple_plot(self,data, x_label, y_label): #This is another simple graph to plot the data of single array.\n",
    "        matplotlib.rcParams['figure.figsize'] = (15,10)\n",
    "        plt.plot(data, \"-b\")\n",
    "        plt.xlabel(x_label)\n",
    "        plt.ylabel(y_label)\n",
    "        plt.show()\n",
    "    "
   ]
  },
  {
   "cell_type": "markdown",
   "id": "c74213ad",
   "metadata": {},
   "source": [
    "Now comes the fun part! We will try out our modules. Let's load the data."
   ]
  },
  {
   "cell_type": "code",
   "execution_count": 3,
   "id": "efa4f732",
   "metadata": {},
   "outputs": [],
   "source": [
    "df = pd.read_csv('dataset1.txt', names=['X', 'y'])\n",
    "X = df[[\"X\"]].to_numpy()\n",
    "y = df[['y']].to_numpy()"
   ]
  },
  {
   "cell_type": "markdown",
   "id": "1fb88a9a",
   "metadata": {},
   "source": [
    "We will now use our modules to get the value of theta using the gradient descent optimizer!"
   ]
  },
  {
   "cell_type": "code",
   "execution_count": 4,
   "id": "213f0969",
   "metadata": {},
   "outputs": [
    {
     "name": "stdout",
     "output_type": "stream",
     "text": [
      "The required number of iterations: 1670\n",
      "The result of theta from Gradient Descent: [[5.83913475]\n",
      " [4.5930409 ]]\n",
      "The final cost: 4.476971375975251\n"
     ]
    },
    {
     "data": {
      "image/png": "[encoded data removed]",
      "text/plain": [
       "<Figure size 1080x720 with 1 Axes>"
      ]
     },
     "metadata": {
      "needs_background": "light"
     },
     "output_type": "display_data"
    }
   ],
   "source": [
    "learning_rate = 0.01\n",
    "iterations = 5000\n",
    "theta = np.array([[0],[0]])\n",
    "\n",
    "ar_linearRegression = linearRegression() #Initiated our class\n",
    "X = ar_linearRegression.featureScaling(X) #We will scale our data\n",
    "X_b = np.c_[np.ones((X.size, 1)), X] #We will concatanate 1 extra column of 1s with X \n",
    "theta, theta_history, cost_hostory = ar_linearRegression.gradientDescent(X_b, y, theta, learning_rate, iterations) #Used gdradient descent optimizer to get the value of theta to get the minimum value of cost.\n",
    "print(\"The result of theta from Gradient Descent: {}\".format(theta))\n",
    "print(\"The final cost: {}\".format(cost_hostory[-1]))\n",
    "ar_linearRegression.simple_plot(cost_hostory,'Number of iterations','Cost')\n"
   ]
  },
  {
   "cell_type": "markdown",
   "id": "43e188c1",
   "metadata": {},
   "source": [
    "Now we will try to find out the value of theta using Normal Function optimizer. "
   ]
  },
  {
   "cell_type": "code",
   "execution_count": 5,
   "id": "b0aa0faa",
   "metadata": {},
   "outputs": [
    {
     "name": "stdout",
     "output_type": "stream",
     "text": [
      "The value of theta from the Normal Function: [[5.83913505]\n",
      " [4.59304113]]\n",
      "The value of cost from the Normal Function: 4.476971375975179\n"
     ]
    }
   ],
   "source": [
    "df = pd.read_csv('dataset1.txt', names=['X', 'y'])\n",
    "X = df[[\"X\"]].to_numpy()\n",
    "y = df[['y']].to_numpy()\n",
    "\n",
    "X = ar_linearRegression.featureScaling(X)\n",
    "X_b = np.c_[np.ones((X.size, 1)), X]\n",
    "theta_normal = ar_linearRegression.Normalization(X_b, y)\n",
    "cost_normal = ar_linearRegression.computeCost(X_b,y,theta_normal)\n",
    "\n",
    "print(\"The value of theta from the Normal Function: {}\".format(theta_normal))\n",
    "print(\"The value of cost from the Normal Function: {}\".format(cost_normal))"
   ]
  },
  {
   "cell_type": "markdown",
   "id": "6e389904",
   "metadata": {},
   "source": [
    "Let's see the which one is better between these two optimizers for our present dataset :)"
   ]
  },
  {
   "cell_type": "code",
   "execution_count": 6,
   "id": "b0eaf64b",
   "metadata": {},
   "outputs": [
    {
     "name": "stdout",
     "output_type": "stream",
     "text": [
      "Normal Function optimizer is better!\n"
     ]
    }
   ],
   "source": [
    "if (cost_hostory[-1] > cost_normal):\n",
    "    print(\"Normal Function optimizer is better!\")\n",
    "else:\n",
    "    print(\"Gradient Descent optimizer is better!\")"
   ]
  },
  {
   "cell_type": "markdown",
   "id": "0406c84f",
   "metadata": {},
   "source": [
    "#### ***Yeyy! So normal function wins for this dataset***"
   ]
  },
  {
   "cell_type": "markdown",
   "id": "3b9f6e16",
   "metadata": {},
   "source": [
    "## ***A soft reminder***\n",
    "#### Why do we need to know the value of the theta here? In mathematical overview, theta = slope. As we are building a linear regression model, we need a slope to make that straight line =, right? Slope will help us to determine how much inclination our model needs to fit with the dataset. If the cost is minimum then only we can predict accurate values for the unseen dataset."
   ]
  },
  {
   "cell_type": "markdown",
   "id": "a61cc976",
   "metadata": {},
   "source": [
    "Now we will predict a new value with a random data. Then plot the data along with our trained data to see how good it fits!"
   ]
  },
  {
   "cell_type": "code",
   "execution_count": 7,
   "id": "c2bfca7d",
   "metadata": {},
   "outputs": [
    {
     "data": {
      "text/plain": [
       "<function matplotlib.pyplot.show(close=None, block=None)>"
      ]
     },
     "execution_count": 7,
     "metadata": {},
     "output_type": "execute_result"
    },
    {
     "data": {
      "image/png": "[encoded data removed]",
      "text/plain": [
       "<Figure size 1080x720 with 1 Axes>"
      ]
     },
     "metadata": {
      "needs_background": "light"
     },
     "output_type": "display_data"
    }
   ],
   "source": [
    "X_new = np.array([[0], [8]])\n",
    "X_b = np.c_[np.ones((X_new.size, 1)), X_new]\n",
    "y_predict = X_b.dot(theta_normal)\n",
    "plt.plot(X,y, \"b.\")\n",
    "plt.plot(X_new,y_predict, \"r--\")\n",
    "plt.xlabel(\"Population\")\n",
    "plt.ylabel(\"Price\")\n",
    "plt.show"
   ]
  },
  {
   "cell_type": "code",
   "execution_count": null,
   "id": "77e6352f",
   "metadata": {},
   "outputs": [],
   "source": []
  }
 ],
 "metadata": {
  "kernelspec": {
   "display_name": "Python 3",
   "language": "python",
   "name": "python3"
  },
  "language_info": {
   "codemirror_mode": {
    "name": "ipython",
    "version": 3
   },
   "file_extension": ".py",
   "mimetype": "text/x-python",
   "name": "python",
   "nbconvert_exporter": "python",
   "pygments_lexer": "ipython3",
   "version": "3.9.1"
  }
 },
 "nbformat": 4,
 "nbformat_minor": 5
}
